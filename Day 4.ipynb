{
 "cells": [
  {
   "cell_type": "code",
   "execution_count": 3,
   "metadata": {},
   "outputs": [
    {
     "data": {
      "text/plain": [
       "'PYTHON'"
      ]
     },
     "execution_count": 3,
     "metadata": {},
     "output_type": "execute_result"
    }
   ],
   "source": [
    "s=\"Python\"\n",
    "s.upper() #converts the given string into upper case"
   ]
  },
  {
   "cell_type": "code",
   "execution_count": 2,
   "metadata": {},
   "outputs": [
    {
     "data": {
      "text/plain": [
       "'python'"
      ]
     },
     "execution_count": 2,
     "metadata": {},
     "output_type": "execute_result"
    }
   ],
   "source": [
    "s=\"PYTHON\"\n",
    "s.lower() #converts the given string into lower case\n"
   ]
  },
  {
   "cell_type": "code",
   "execution_count": 5,
   "metadata": {},
   "outputs": [
    {
     "name": "stdout",
     "output_type": "stream",
     "text": [
      "Python\n",
      "False\n",
      "False\n"
     ]
    }
   ],
   "source": [
    "#String Boolean Methods:\n",
    "print(s)\n",
    "print(s.islower())\n",
    "print(s.isupper())"
   ]
  },
  {
   "cell_type": "code",
   "execution_count": 14,
   "metadata": {},
   "outputs": [
    {
     "name": "stdout",
     "output_type": "stream",
     "text": [
      "True\n",
      "False\n",
      "False\n",
      "True\n",
      "False\n",
      "True\n"
     ]
    }
   ],
   "source": [
    "#istitle:\n",
    "s1=\"Python Programming\"\n",
    "s2=\"pyhton programming\"\n",
    "print(s1.istitle())\n",
    "print(s2.istitle())\n",
    "#isnumeric:\n",
    "s3=\"py123\"\n",
    "s4=\"1234\"\n",
    "print(s3.isnumeric())\n",
    "print(s4.isnumeric())\n",
    "#isalpha:\n",
    "s5=\"pyth\"\n",
    "print(s3.isalpha())\n",
    "print(s5.isalpha())\n",
    "\n"
   ]
  },
  {
   "cell_type": "code",
   "execution_count": 15,
   "metadata": {},
   "outputs": [
    {
     "name": "stdout",
     "output_type": "stream",
     "text": [
      "True\n",
      "False\n"
     ]
    }
   ],
   "source": [
    "#isspace:\n",
    "s=\" \"\n",
    "s1=\"py th on\"\n",
    "print(s.isspace())\n",
    "print(s1.isspace())"
   ]
  },
  {
   "cell_type": "code",
   "execution_count": 19,
   "metadata": {},
   "outputs": [
    {
     "name": "stdout",
     "output_type": "stream",
     "text": [
      "Enter a number18976\n",
      "[1, 8, 9, 7, 6]\n"
     ]
    }
   ],
   "source": [
    "#Function to convert digits in a number to list\n",
    "#Input: 18976\n",
    "#Output: [1,8,9,7,6]\n",
    "n=input(\"Enter a number\")\n",
    "l=list(map(int,n))\n",
    "print(l)"
   ]
  },
  {
   "cell_type": "code",
   "execution_count": 20,
   "metadata": {},
   "outputs": [
    {
     "name": "stdout",
     "output_type": "stream",
     "text": [
      "Enter the number18976\n",
      "[1, 8, 9, 7, 6]\n"
     ]
    }
   ],
   "source": [
    "#Function to convert digits in a number to list\n",
    "#Input: 18976\n",
    "#Output: [1,8,9,7,6]\n",
    "def convert(n):\n",
    "    l=[]\n",
    "    for i in n:\n",
    "        l.append(int(i))\n",
    "    print(l)\n",
    "    \n",
    "n=input(\"Enter the number\")\n",
    "convert(n)\n",
    "\n",
    "        \n",
    "    "
   ]
  },
  {
   "cell_type": "code",
   "execution_count": 2,
   "metadata": {},
   "outputs": [
    {
     "name": "stdout",
     "output_type": "stream",
     "text": [
      "Enter a number6\n",
      "1 2 3 6\n"
     ]
    }
   ],
   "source": [
    "#Factors of a number\n",
    "def factors(n):\n",
    "    \n",
    "    for i in range(1,(n//2)+1):\n",
    "        if(n%i==0):\n",
    "            print(i,end=\" \")\n",
    "    print(n)\n",
    "n=int(input(\"Enter a number\"))\n",
    "factors(n)"
   ]
  },
  {
   "cell_type": "code",
   "execution_count": 4,
   "metadata": {},
   "outputs": [
    {
     "name": "stdout",
     "output_type": "stream",
     "text": [
      "Enter x500\n",
      "Enter y520\n",
      "500 502 504 506 508 510 512 514 516 518 520 "
     ]
    }
   ],
   "source": [
    "#Input: 500,520\n",
    "#Output: 502,504,506,508...520\n",
    "def seq(x,y):\n",
    "    for i in range(x,y+1,2):\n",
    "        print(i,end=\" \")\n",
    "\n",
    "x=int(input(\"Enter x\"))\n",
    "y=int(input(\"Enter y\"))\n",
    "seq(x,y)\n",
    "    "
   ]
  },
  {
   "cell_type": "code",
   "execution_count": 6,
   "metadata": {},
   "outputs": [
    {
     "data": {
      "text/plain": [
       "8"
      ]
     },
     "execution_count": 6,
     "metadata": {},
     "output_type": "execute_result"
    }
   ],
   "source": [
    "a=18765\n",
    "int(max(str(a)))"
   ]
  },
  {
   "cell_type": "code",
   "execution_count": 7,
   "metadata": {},
   "outputs": [
    {
     "data": {
      "text/plain": [
       "['P', 'y', 't', 'h', 'o', 'n']"
      ]
     },
     "execution_count": 7,
     "metadata": {},
     "output_type": "execute_result"
    }
   ],
   "source": [
    "#Input: s=\"Python\"\n",
    "#output: ['P','y','t','h','o','n']\n",
    "list(\"Python\")\n"
   ]
  },
  {
   "cell_type": "code",
   "execution_count": 9,
   "metadata": {},
   "outputs": [
    {
     "name": "stdout",
     "output_type": "stream",
     "text": [
      "Enter the number6\n",
      "Not Strong number\n"
     ]
    }
   ],
   "source": [
    "#strong number\n",
    "def fact(n):\n",
    "    fact=1\n",
    "    for i in range(2,n+1):\n",
    "        fact=fact*i\n",
    "    return fact\n",
    "\n",
    "sum=0\n",
    "n=input(\"Enter the number\")\n",
    "for i in n:\n",
    "    sum+=fact(int(i))\n",
    "if(sum==int(n)):\n",
    "    print(\"strong\")\n",
    "else:\n",
    "    print(\"Not Strong number\")\n",
    "\n",
    "        "
   ]
  }
 ],
 "metadata": {
  "kernelspec": {
   "display_name": "Python 3",
   "language": "python",
   "name": "python3"
  },
  "language_info": {
   "codemirror_mode": {
    "name": "ipython",
    "version": 3
   },
   "file_extension": ".py",
   "mimetype": "text/x-python",
   "name": "python",
   "nbconvert_exporter": "python",
   "pygments_lexer": "ipython3",
   "version": "3.7.4"
  }
 },
 "nbformat": 4,
 "nbformat_minor": 2
}
