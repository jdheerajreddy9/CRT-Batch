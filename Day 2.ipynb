{
 "cells": [
  {
   "cell_type": "markdown",
   "metadata": {},
   "source": [
    "![](python.svg.png)"
   ]
  },
  {
   "cell_type": "markdown",
   "metadata": {},
   "source": [
    "![](C:\\Users\\Dheeraj\\Documents\\CRT)"
   ]
  },
  {
   "cell_type": "markdown",
   "metadata": {},
   "source": [
    "![](C:\\Users\\Dheeraj\\Documents\\CRT\\python.svg.png)"
   ]
  },
  {
   "cell_type": "markdown",
   "metadata": {},
   "source": [
    "![](data:image/jpeg;base64,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)"
   ]
  },
  {
   "cell_type": "markdown",
   "metadata": {},
   "source": [
    "# [Github](https://github.com/)"
   ]
  },
  {
   "cell_type": "markdown",
   "metadata": {},
   "source": [
    "## Loops\n",
    "1. for loop\n",
    "2. while loop\n",
    "\n"
   ]
  },
  {
   "cell_type": "code",
   "execution_count": 10,
   "metadata": {},
   "outputs": [
    {
     "name": "stdout",
     "output_type": "stream",
     "text": [
      "1 2 3 4 5 6 7 8 9 10 11 12 13 14 15 16 17 18 19 20 "
     ]
    }
   ],
   "source": [
    "\n",
    "for i in range(1,21):\n",
    "    print(i,end=\" \")"
   ]
  },
  {
   "cell_type": "code",
   "execution_count": 11,
   "metadata": {},
   "outputs": [
    {
     "name": "stdout",
     "output_type": "stream",
     "text": [
      "1 2 3 4 5 6 7 8 9 10 11 12 13 14 15 16 17 18 19 20 "
     ]
    }
   ],
   "source": [
    "a=1\n",
    "while(a<21):\n",
    "    print(a,end=\" \")\n",
    "    a+=1\n",
    "    "
   ]
  },
  {
   "cell_type": "code",
   "execution_count": 1,
   "metadata": {},
   "outputs": [
    {
     "name": "stdout",
     "output_type": "stream",
     "text": [
      "Enter the number10\n",
      "1 2 3 4 5 6 7 8 9 10 "
     ]
    }
   ],
   "source": [
    "n=int(input(\"Enter the number\"))\n",
    "i=1\n",
    "while(i<=n):\n",
    "    print(i,end=\" \")\n",
    "    i+=1\n",
    "    "
   ]
  },
  {
   "cell_type": "code",
   "execution_count": 5,
   "metadata": {},
   "outputs": [
    {
     "name": "stdout",
     "output_type": "stream",
     "text": [
      "Enter the number10\n",
      "30\n"
     ]
    }
   ],
   "source": [
    "#printing sum of even numbers in range\n",
    "n=int(input(\"Enter the number\"))\n",
    "s=0\n",
    "i=1\n",
    "while(i<=n):\n",
    "    if(i%2==0):\n",
    "        s=s+i\n",
    "    i+=1\n",
    "print(s)"
   ]
  },
  {
   "cell_type": "code",
   "execution_count": 7,
   "metadata": {},
   "outputs": [
    {
     "name": "stdout",
     "output_type": "stream",
     "text": [
      "Enter the number123\n",
      "3 2 1 "
     ]
    }
   ],
   "source": [
    "#seperate reverse of digits\n",
    "n=int(input(\"Enter the number\"))\n",
    "i=n\n",
    "while(i>0):\n",
    "    print(i%10,end=\" \")\n",
    "    i=i//10\n",
    "    "
   ]
  },
  {
   "cell_type": "code",
   "execution_count": 11,
   "metadata": {},
   "outputs": [
    {
     "name": "stdout",
     "output_type": "stream",
     "text": [
      "1 4 7 10 "
     ]
    }
   ],
   "source": [
    "for i in range(1,11,3):\n",
    "    print(i,end=\" \")\n",
    "    "
   ]
  },
  {
   "cell_type": "code",
   "execution_count": 13,
   "metadata": {},
   "outputs": [
    {
     "name": "stdout",
     "output_type": "stream",
     "text": [
      "P y t h o n "
     ]
    }
   ],
   "source": [
    "#iterable objects\n",
    "for i in \"Python\":\n",
    "    print(i,end=\" \")"
   ]
  }
 ],
 "metadata": {
  "kernelspec": {
   "display_name": "Python 3",
   "language": "python",
   "name": "python3"
  },
  "language_info": {
   "codemirror_mode": {
    "name": "ipython",
    "version": 3
   },
   "file_extension": ".py",
   "mimetype": "text/x-python",
   "name": "python",
   "nbconvert_exporter": "python",
   "pygments_lexer": "ipython3",
   "version": "3.7.4"
  }
 },
 "nbformat": 4,
 "nbformat_minor": 2
}
