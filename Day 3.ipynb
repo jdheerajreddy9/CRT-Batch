{
 "cells": [
  {
   "cell_type": "markdown",
   "metadata": {},
   "source": [
    "# Functions:\n",
    "\n"
   ]
  },
  {
   "cell_type": "code",
   "execution_count": 136,
   "metadata": {},
   "outputs": [],
   "source": [
    "# Simle\n",
    "# Code Reusability"
   ]
  },
  {
   "cell_type": "markdown",
   "metadata": {},
   "source": [
    "### Syntax:\n",
    "- def FunctionName(arguments):\n",
    "    -Statements\n",
    "    -return"
   ]
  },
  {
   "cell_type": "code",
   "execution_count": 2,
   "metadata": {},
   "outputs": [
    {
     "name": "stdout",
     "output_type": "stream",
     "text": [
      "Enter the number1234\n",
      "6\n"
     ]
    }
   ],
   "source": [
    "def EvenDigitSum(n):\n",
    "    i=n\n",
    "    s=0\n",
    "    while(i>0):\n",
    "        a=i%10\n",
    "        if((a%2)==0):\n",
    "            s=s+a\n",
    "        i=i//10\n",
    "    return s\n",
    "\n",
    "n=int(input(\"Enter the number\"))\n",
    "s=EvenDigitSum(n)\n",
    "print(s)\n"
   ]
  },
  {
   "cell_type": "code",
   "execution_count": 5,
   "metadata": {},
   "outputs": [
    {
     "name": "stdout",
     "output_type": "stream",
     "text": [
      "Enter the number19535\n",
      "9\n"
     ]
    }
   ],
   "source": [
    "def Largest(n):\n",
    "    i=n\n",
    "    l=0\n",
    "    while(i>0):\n",
    "        a=i%10\n",
    "        if(l<a):\n",
    "            l=a\n",
    "        i=i//10\n",
    "    return l\n",
    "\n",
    "n=int(input(\"Enter the number\"))\n",
    "l=Largest(n)\n",
    "print(l)"
   ]
  },
  {
   "cell_type": "code",
   "execution_count": 6,
   "metadata": {},
   "outputs": [
    {
     "name": "stdout",
     "output_type": "stream",
     "text": [
      "Enter the number3\n",
      "3\n"
     ]
    }
   ],
   "source": [
    "def Factorial(n):\n",
    "    i=n\n",
    "    fact=1\n",
    "    while(i>0):\n",
    "        fact=fact*i   \n",
    "        i-=1\n",
    "    return fact\n",
    "\n",
    "n=int(input(\"Enter the number\"))\n",
    "fact=Largest(n)\n",
    "print(fact)"
   ]
  },
  {
   "cell_type": "markdown",
   "metadata": {},
   "source": [
    "# Collection Types:\n",
    "- 1. Lists\n",
    "- 2. Tuples\n",
    "- 3. Set\n",
    "- 4. Dictionary"
   ]
  },
  {
   "cell_type": "markdown",
   "metadata": {},
   "source": [
    "# List:\n",
    "- One of the DataStructures available in Python\n",
    "- List is always enclosed in []\n",
    "- Elements in a list are always seperated by a comma(,)\n"
   ]
  },
  {
   "cell_type": "code",
   "execution_count": 32,
   "metadata": {},
   "outputs": [
    {
     "name": "stdout",
     "output_type": "stream",
     "text": [
      "[2, 3, 4, 5, 6, 7, 2, 3, 4, 5, 6, 7]\n",
      "2 3 4 5 6 7 "
     ]
    }
   ],
   "source": [
    "l=[1,2,3,4,5,6]\n",
    "l[::-3]\n",
    "max(l)\n",
    "min(l)\n",
    "l2=['a','A']\n",
    "max(l2)\n",
    "len(l)\n",
    "sum(l)/len(l)\n",
    "l[1]+l[2]\n",
    "l.append(7)\n",
    "del l[0]\n",
    "l[0]\n",
    "print(l*2)\n",
    "4 in l\n",
    "l[0] is not 2\n",
    "l[0] is 2\n",
    "\n",
    "for i in l:\n",
    "    print(i,end=\" \")"
   ]
  },
  {
   "cell_type": "code",
   "execution_count": 37,
   "metadata": {},
   "outputs": [
    {
     "name": "stdout",
     "output_type": "stream",
     "text": [
      "0 1 2 3 4 5 "
     ]
    }
   ],
   "source": [
    "for i in range(len(l)):\n",
    "    print(i,end=\" \")"
   ]
  },
  {
   "cell_type": "code",
   "execution_count": 41,
   "metadata": {},
   "outputs": [
    {
     "data": {
      "text/plain": [
       "[0, 1, 2, 3, 4, 5, 6, 7]"
      ]
     },
     "execution_count": 41,
     "metadata": {},
     "output_type": "execute_result"
    }
   ],
   "source": [
    "l.insert(0,0)\n",
    "l"
   ]
  },
  {
   "cell_type": "code",
   "execution_count": 42,
   "metadata": {},
   "outputs": [
    {
     "data": {
      "text/plain": [
       "1"
      ]
     },
     "execution_count": 42,
     "metadata": {},
     "output_type": "execute_result"
    }
   ],
   "source": [
    "l.count(7)"
   ]
  },
  {
   "cell_type": "code",
   "execution_count": 44,
   "metadata": {},
   "outputs": [
    {
     "name": "stdout",
     "output_type": "stream",
     "text": [
      "[0, 1, 2, 3, 4, 5, 6, 7, 'abc', 'Gitam']\n",
      "['abc', 'Gitam']\n",
      "[0, 1, 2, 3, 4, 5, 6, 7, 'abc', 'Gitam', 'abc', 'Gitam']\n"
     ]
    }
   ],
   "source": [
    "print(l)\n",
    "l1=[\"abc\",\"Gitam\"]\n",
    "print(l1)\n",
    "l.extend(l1)\n",
    "print(l)"
   ]
  },
  {
   "cell_type": "code",
   "execution_count": 128,
   "metadata": {},
   "outputs": [
    {
     "name": "stdout",
     "output_type": "stream",
     "text": [
      "['Gitam', 'abc']\n"
     ]
    }
   ],
   "source": [
    "l1.reverse()\n",
    "print(l1)"
   ]
  },
  {
   "cell_type": "code",
   "execution_count": 131,
   "metadata": {},
   "outputs": [
    {
     "name": "stdout",
     "output_type": "stream",
     "text": [
      "[3, 5, 11, 14, 34, 41, 56]\n"
     ]
    }
   ],
   "source": [
    "l2=[14,11,41,3,5,34,56]\n",
    "l2.sort()\n",
    "print(l2)"
   ]
  },
  {
   "cell_type": "code",
   "execution_count": 133,
   "metadata": {},
   "outputs": [
    {
     "name": "stdout",
     "output_type": "stream",
     "text": [
      "largest number is 2773\n"
     ]
    }
   ],
   "source": [
    "# Function to print the biggest number from the list\n",
    "def largest(l):\n",
    "    l.sort()\n",
    "    print(\"largest number is\",l[-1])\n",
    "    \n",
    "largest([1652,2773,612,1231])\n",
    "\n",
    "    "
   ]
  },
  {
   "cell_type": "code",
   "execution_count": 135,
   "metadata": {},
   "outputs": [
    {
     "name": "stdout",
     "output_type": "stream",
     "text": [
      "largest number is 876\n"
     ]
    }
   ],
   "source": [
    "# Function to print the second largest number from the list\n",
    "def second(l):\n",
    "    l.sort()\n",
    "    print(\"The second largest number is\",l[-2])\n",
    "    \n",
    "largest([156,134,155,864,876,377]) "
   ]
  },
  {
   "cell_type": "markdown",
   "metadata": {},
   "source": [
    "# Tuple:\n",
    "- tuples are enclosed in parenthesis()\n",
    "- Tuples are immutable i.e., elements inside a tuple cannot be changed or deleted\n",
    "- Modifications are not possible in tuples\n",
    "- Tuples are used only to acess the data"
   ]
  },
  {
   "cell_type": "markdown",
   "metadata": {},
   "source": [
    "### Differences between list and tuples\n",
    "- List--->[]                                      - Tuples-->()\n",
    "- List is mutable(changes can be made)            - Tuple is immutable(changes cannot be made)\n",
    "- Works slower due to mutation process            - Works faster during execution as it is immutable"
   ]
  },
  {
   "cell_type": "code",
   "execution_count": 137,
   "metadata": {},
   "outputs": [
    {
     "name": "stdout",
     "output_type": "stream",
     "text": [
      "(1, 6.45, 'Python')\n",
      "<class 'tuple'>\n"
     ]
    }
   ],
   "source": [
    "t1=(1,6.45,\"Python\")\n",
    "print(t1)\n",
    "print(type(t1))"
   ]
  },
  {
   "cell_type": "code",
   "execution_count": 138,
   "metadata": {},
   "outputs": [
    {
     "name": "stdout",
     "output_type": "stream",
     "text": [
      "Help on class tuple in module builtins:\n",
      "\n",
      "class tuple(object)\n",
      " |  tuple(iterable=(), /)\n",
      " |  \n",
      " |  Built-in immutable sequence.\n",
      " |  \n",
      " |  If no argument is given, the constructor returns an empty tuple.\n",
      " |  If iterable is specified the tuple is initialized from iterable's items.\n",
      " |  \n",
      " |  If the argument is a tuple, the return value is the same object.\n",
      " |  \n",
      " |  Methods defined here:\n",
      " |  \n",
      " |  __add__(self, value, /)\n",
      " |      Return self+value.\n",
      " |  \n",
      " |  __contains__(self, key, /)\n",
      " |      Return key in self.\n",
      " |  \n",
      " |  __eq__(self, value, /)\n",
      " |      Return self==value.\n",
      " |  \n",
      " |  __ge__(self, value, /)\n",
      " |      Return self>=value.\n",
      " |  \n",
      " |  __getattribute__(self, name, /)\n",
      " |      Return getattr(self, name).\n",
      " |  \n",
      " |  __getitem__(self, key, /)\n",
      " |      Return self[key].\n",
      " |  \n",
      " |  __getnewargs__(self, /)\n",
      " |  \n",
      " |  __gt__(self, value, /)\n",
      " |      Return self>value.\n",
      " |  \n",
      " |  __hash__(self, /)\n",
      " |      Return hash(self).\n",
      " |  \n",
      " |  __iter__(self, /)\n",
      " |      Implement iter(self).\n",
      " |  \n",
      " |  __le__(self, value, /)\n",
      " |      Return self<=value.\n",
      " |  \n",
      " |  __len__(self, /)\n",
      " |      Return len(self).\n",
      " |  \n",
      " |  __lt__(self, value, /)\n",
      " |      Return self<value.\n",
      " |  \n",
      " |  __mul__(self, value, /)\n",
      " |      Return self*value.\n",
      " |  \n",
      " |  __ne__(self, value, /)\n",
      " |      Return self!=value.\n",
      " |  \n",
      " |  __repr__(self, /)\n",
      " |      Return repr(self).\n",
      " |  \n",
      " |  __rmul__(self, value, /)\n",
      " |      Return value*self.\n",
      " |  \n",
      " |  count(self, value, /)\n",
      " |      Return number of occurrences of value.\n",
      " |  \n",
      " |  index(self, value, start=0, stop=9223372036854775807, /)\n",
      " |      Return first index of value.\n",
      " |      \n",
      " |      Raises ValueError if the value is not present.\n",
      " |  \n",
      " |  ----------------------------------------------------------------------\n",
      " |  Static methods defined here:\n",
      " |  \n",
      " |  __new__(*args, **kwargs) from builtins.type\n",
      " |      Create and return a new object.  See help(type) for accurate signature.\n",
      "\n"
     ]
    }
   ],
   "source": [
    "help(\"tuple\")"
   ]
  },
  {
   "cell_type": "markdown",
   "metadata": {},
   "source": [
    "# Dictionary:\n",
    "- Dictionaries are enclosed in {}\n",
    "- It consists of key value pairs\n",
    "- Each key is seperated to it's value by a colon(:)\n",
    "- Each key value pair is seperated from other pairs using comma(,)\n",
    "- Keys must be unique while creating any dictionary\n"
   ]
  },
  {
   "cell_type": "code",
   "execution_count": 139,
   "metadata": {},
   "outputs": [
    {
     "name": "stdout",
     "output_type": "stream",
     "text": [
      "<class 'dict'>\n"
     ]
    }
   ],
   "source": [
    "d={\"Name\":\"Gitam\",\"Email ID\":\"gitam@gmail.com\",\"Address\":\"Hyd\"}\n",
    "print(type(d))\n"
   ]
  },
  {
   "cell_type": "code",
   "execution_count": 140,
   "metadata": {},
   "outputs": [
    {
     "data": {
      "text/plain": [
       "'Gitam'"
      ]
     },
     "execution_count": 140,
     "metadata": {},
     "output_type": "execute_result"
    }
   ],
   "source": [
    "d[\"Name\"]"
   ]
  },
  {
   "cell_type": "code",
   "execution_count": 142,
   "metadata": {},
   "outputs": [
    {
     "name": "stdout",
     "output_type": "stream",
     "text": [
      "python@gmail.co.in\n"
     ]
    }
   ],
   "source": [
    "d[\"Email ID\"]=\"python@gmail.co.in\"\n",
    "print(d[\"Email ID\"])"
   ]
  },
  {
   "cell_type": "code",
   "execution_count": 144,
   "metadata": {},
   "outputs": [
    {
     "name": "stdout",
     "output_type": "stream",
     "text": [
      "{'Name': 'Gitam', 'Email ID': 'python@gmail.co.in', 'Address': 'Hyd', 'course': 'Python'}\n"
     ]
    }
   ],
   "source": [
    "d[\"course\"]=\"Python\"\n",
    "print(d)"
   ]
  },
  {
   "cell_type": "code",
   "execution_count": 145,
   "metadata": {},
   "outputs": [
    {
     "data": {
      "text/plain": [
       "{'Name': 'Gitam', 'Email ID': 'python@gmail.co.in', 'Address': 'Hyd'}"
      ]
     },
     "execution_count": 145,
     "metadata": {},
     "output_type": "execute_result"
    }
   ],
   "source": [
    "del d[\"course\"]\n",
    "d"
   ]
  },
  {
   "cell_type": "code",
   "execution_count": 146,
   "metadata": {},
   "outputs": [
    {
     "data": {
      "text/plain": [
       "dict_values(['Gitam', 'python@gmail.co.in', 'Hyd'])"
      ]
     },
     "execution_count": 146,
     "metadata": {},
     "output_type": "execute_result"
    }
   ],
   "source": [
    "d.values()"
   ]
  },
  {
   "cell_type": "code",
   "execution_count": 147,
   "metadata": {},
   "outputs": [
    {
     "data": {
      "text/plain": [
       "dict_keys(['Name', 'Email ID', 'Address'])"
      ]
     },
     "execution_count": 147,
     "metadata": {},
     "output_type": "execute_result"
    }
   ],
   "source": [
    "d.keys()"
   ]
  },
  {
   "cell_type": "code",
   "execution_count": 150,
   "metadata": {},
   "outputs": [
    {
     "data": {
      "text/plain": [
       "{'Name': 'Gitam', 'Email ID': 'python@gmail.co.in', 'Address': 'Bng'}"
      ]
     },
     "execution_count": 150,
     "metadata": {},
     "output_type": "execute_result"
    }
   ],
   "source": [
    "d[\"Address\"]=\"Bng\"\n",
    "d"
   ]
  },
  {
   "cell_type": "markdown",
   "metadata": {},
   "source": [
    "# Strings\n"
   ]
  },
  {
   "cell_type": "code",
   "execution_count": 153,
   "metadata": {},
   "outputs": [
    {
     "data": {
      "text/plain": [
       "''"
      ]
     },
     "execution_count": 153,
     "metadata": {},
     "output_type": "execute_result"
    }
   ],
   "source": [
    "s=\"Python\"\n",
    "s[0:5:2]\n",
    "s[0:5:-1]"
   ]
  },
  {
   "cell_type": "code",
   "execution_count": 156,
   "metadata": {},
   "outputs": [
    {
     "data": {
      "text/plain": [
       "'nohtyP'"
      ]
     },
     "execution_count": 156,
     "metadata": {},
     "output_type": "execute_result"
    }
   ],
   "source": [
    "s[::-1]"
   ]
  },
  {
   "cell_type": "code",
   "execution_count": 157,
   "metadata": {},
   "outputs": [
    {
     "name": "stdout",
     "output_type": "stream",
     "text": [
      "Enter the stringlevel\n",
      "It is a palindrome\n"
     ]
    }
   ],
   "source": [
    "# Function to check for palindrome of a string\n",
    "def palindrome(s):\n",
    "    p=s[::-1]\n",
    "    if(p==s):\n",
    "        print(\"It is a palindrome\")\n",
    "    else:\n",
    "        print(\"It is not a palindrome\")\n",
    "        \n",
    "s=input(\"Enter the string\")\n",
    "palindrome(s)"
   ]
  },
  {
   "cell_type": "markdown",
   "metadata": {},
   "source": [
    "# String Methods\n",
    "- join():Method to concatenate the strings\n"
   ]
  },
  {
   "cell_type": "code",
   "execution_count": 159,
   "metadata": {},
   "outputs": [
    {
     "name": "stdout",
     "output_type": "stream",
     "text": [
      "p,y,t,h,o,n\n"
     ]
    }
   ],
   "source": [
    "s=\"python\"\n",
    "s1=\"Progarmming\"\n",
    "print(\",\".join(s))"
   ]
  },
  {
   "cell_type": "code",
   "execution_count": 162,
   "metadata": {},
   "outputs": [
    {
     "name": "stdout",
     "output_type": "stream",
     "text": [
      "['Python', 'Programming', 'is', 'easy', 'to', 'learn']\n",
      "['Python Progr', 'mming is e', 'sy to le', 'rn']\n"
     ]
    }
   ],
   "source": [
    "s=\"Python Programming is easy to learn\"\n",
    "print(s.split())\n",
    "print(s.split(\"a\"))"
   ]
  },
  {
   "cell_type": "code",
   "execution_count": null,
   "metadata": {},
   "outputs": [],
   "source": [
    "s."
   ]
  }
 ],
 "metadata": {
  "kernelspec": {
   "display_name": "Python 3",
   "language": "python",
   "name": "python3"
  },
  "language_info": {
   "codemirror_mode": {
    "name": "ipython",
    "version": 3
   },
   "file_extension": ".py",
   "mimetype": "text/x-python",
   "name": "python",
   "nbconvert_exporter": "python",
   "pygments_lexer": "ipython3",
   "version": "3.7.4"
  }
 },
 "nbformat": 4,
 "nbformat_minor": 2
}
